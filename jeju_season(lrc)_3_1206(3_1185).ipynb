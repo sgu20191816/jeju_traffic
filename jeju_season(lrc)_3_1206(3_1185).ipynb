{
  "cells": [
    {
      "cell_type": "markdown",
      "metadata": {
        "id": "view-in-github",
        "colab_type": "text"
      },
      "source": [
        "<a href=\"https://colab.research.google.com/github/sgu20191816/jeju_traffic/blob/main/jeju_season(lrc)_3_1206(3_1185).ipynb\" target=\"_parent\"><img src=\"https://colab.research.google.com/assets/colab-badge.svg\" alt=\"Open In Colab\"/></a>"
      ]
    },
    {
      "cell_type": "code",
      "source": [
        "pip install haversine"
      ],
      "metadata": {
        "colab": {
          "base_uri": "https://localhost:8080/"
        },
        "id": "SXXYhcNKVo6G",
        "outputId": "bd9c9f90-3fa9-4db9-bcce-6134dfa41a1c"
      },
      "execution_count": null,
      "outputs": [
        {
          "output_type": "stream",
          "name": "stdout",
          "text": [
            "Looking in indexes: https://pypi.org/simple, https://us-python.pkg.dev/colab-wheels/public/simple/\n",
            "Requirement already satisfied: haversine in /usr/local/lib/python3.7/dist-packages (2.7.0)\n"
          ]
        }
      ]
    },
    {
      "cell_type": "code",
      "execution_count": null,
      "metadata": {
        "id": "fafoADpbGiIt"
      },
      "outputs": [],
      "source": [
        "import pandas as pd\n",
        "import numpy as np\n",
        "import gc\n",
        "import matplotlib.pyplot as plt\n",
        "\n",
        "import lightgbm as lgb\n",
        "\n",
        "from sklearn.preprocessing import PolynomialFeatures\n",
        "from sklearn.preprocessing import LabelEncoder\n",
        "from sklearn.preprocessing import StandardScaler\n",
        "\n",
        "from sklearn.metrics import mean_absolute_error, mean_squared_error\n",
        "from sklearn.model_selection import train_test_split\n",
        "from sklearn.model_selection import cross_val_score, cross_validate\n",
        "from sklearn.model_selection import KFold\n",
        "\n",
        "from haversine import haversine, Unit"
      ]
    },
    {
      "cell_type": "code",
      "source": [
        "from google.colab import drive\n",
        "drive.mount('/content/drive')"
      ],
      "metadata": {
        "colab": {
          "base_uri": "https://localhost:8080/"
        },
        "id": "40yFuSDFGp9d",
        "outputId": "0ac5cd4b-62c3-4c72-aef7-464e95c28f31"
      },
      "execution_count": null,
      "outputs": [
        {
          "output_type": "stream",
          "name": "stdout",
          "text": [
            "Drive already mounted at /content/drive; to attempt to forcibly remount, call drive.mount(\"/content/drive\", force_remount=True).\n"
          ]
        }
      ]
    },
    {
      "cell_type": "code",
      "source": [
        "def get_outlier(df=None, column=None, weight=1.25):\n",
        "  # target 값과 상관관계가 높은 열을 우선적으로 진행\n",
        "  quantile_25 = np.percentile(df[column].values, 25)\n",
        "  quantile_75 = np.percentile(df[column].values, 75)\n",
        "\n",
        "  IQR = quantile_75 - quantile_25\n",
        "  IQR_weight = IQR*weight\n",
        "\n",
        "  lowest = quantile_25 - IQR_weight\n",
        "  highest = quantile_75 + IQR_weight\n",
        "\n",
        "  outlier_idx = df[column][ (df[column] < lowest) | (df[column] > highest) ].index\n",
        "  return outlier_idx"
      ],
      "metadata": {
        "id": "sGTZeGSQG8gv"
      },
      "execution_count": null,
      "outputs": []
    },
    {
      "cell_type": "code",
      "execution_count": null,
      "metadata": {
        "id": "_zh6DGSyGiIv"
      },
      "outputs": [],
      "source": [
        "#csv to parquet\n",
        "# -> 메모리에 효율적인 데이터 유형을 사용하여 용량을 크게 줄이고 빠른 작업이 가능\n",
        "def csv_to_parquet(csv_path, save_name):\n",
        "    df = pd.read_csv(csv_path)\n",
        "    df.to_parquet(f'./{save_name}.parquet')\n",
        "    del df\n",
        "    gc.collect()\n",
        "    print(save_name, 'Done.')"
      ]
    },
    {
      "cell_type": "code",
      "execution_count": null,
      "metadata": {
        "colab": {
          "base_uri": "https://localhost:8080/"
        },
        "id": "zGcoXIHkGiIv",
        "outputId": "a2bbfca1-0b72-4b4c-897e-709128d225d2"
      },
      "outputs": [
        {
          "output_type": "stream",
          "name": "stdout",
          "text": [
            "train Done.\n",
            "test Done.\n"
          ]
        }
      ],
      "source": [
        "csv_to_parquet('/content/drive/MyDrive/DACON/제주도 도로 교통량 예측 AI 경진대회/open (제주 교통)/train.csv', 'train')\n",
        "csv_to_parquet('/content/drive/MyDrive/DACON/제주도 도로 교통량 예측 AI 경진대회/open (제주 교통)/test.csv', 'test')"
      ]
    },
    {
      "cell_type": "code",
      "execution_count": null,
      "metadata": {
        "id": "2oWcrj-fGiIx"
      },
      "outputs": [],
      "source": [
        "# 데이터 불러오기\n",
        "train = pd.read_parquet('/content/train.parquet')\n",
        "test = pd.read_parquet('/content/test.parquet')"
      ]
    },
    {
      "cell_type": "code",
      "execution_count": null,
      "metadata": {
        "id": "5uXpYYDBGiIy"
      },
      "outputs": [],
      "source": [
        "# 데이터 전처리\n",
        "\n",
        "## 히스토그램 파악하기\n",
        "# date, road 범주형 데이터로 바라보게 할 것\n",
        "\n",
        "# '-' road_name 삭제\n",
        "# cst = train[train['road_name'] == '-'].index\n",
        "# train.drop(cst)\n",
        "\n",
        "# 이상치 제거\n",
        "outlier_idx = get_outlier(df=train, column='target')\n",
        "train.drop(outlier_idx, axis=0, inplace=True)\n",
        "\n",
        "# 자릿수 낮춤\n",
        "train['weight_restricted'] = train['weight_restricted'] * (0.0001)\n",
        "train['road_rating'] = train['road_rating'] * (0.1)\n",
        "test['weight_restricted'] = test['weight_restricted'] * (0.0001)\n",
        "test['road_rating'] = test['road_rating'] * (0.1)\n",
        "\n",
        "# 라벨링\n",
        "str_col = ['day_of_week','road_name','start_turn_restricted','end_turn_restricted']\n",
        "for i in str_col:\n",
        "    le = LabelEncoder()\n",
        "    le=le.fit(train[i])\n",
        "    train[i]=le.transform(train[i])\n",
        "\n",
        "    for label in np.unique(test[i]):\n",
        "        if label not in le.classes_:\n",
        "            le.classes_ = np.append(le.classes_, label)\n",
        "    test[i]=le.transform(test[i])\n",
        "\n",
        "# train['month'] = train['month'].astype(str)\n",
        "# train['base_hour'] = train['base_hour'].astype(str)\n",
        "# train = pd.get_dummies(train, columns=['month','base_hour'])\n",
        "# test['month'] = test['month'].astype(str)\n",
        "# test['base_hour'] = test['base_hour'].astype(str)\n",
        "# test = pd.get_dummies(test, columns=['month','base_hour'])\n",
        "\n",
        "# road + latitude, longtitude\n",
        "#train['road_s_lati'] = train.apply(lambda x : x['road_name']+x['start_latitude'])\n",
        "\n",
        "print(train.head())"
      ]
    },
    {
      "cell_type": "code",
      "source": [
        "train['road_name'].unique()"
      ],
      "metadata": {
        "id": "Z9Vo1Uppckph"
      },
      "execution_count": null,
      "outputs": []
    },
    {
      "cell_type": "code",
      "source": [
        "# NEW feature 생성\n",
        "## 거리 feature 생성\n",
        "train['distance'] = train.apply(lambda x: haversine((x['start_latitude'],x['start_longitude']),(x['end_latitude'],x['end_longitude']),unit = 'km'), axis = 'columns')\n",
        "test['distance'] = test.apply(lambda x: haversine((x['start_latitude'],x['start_longitude']),(x['end_latitude'],x['end_longitude']),unit = 'km'), axis = 'columns')"
      ],
      "metadata": {
        "id": "tHPTyYAH_nKS"
      },
      "execution_count": null,
      "outputs": []
    },
    {
      "cell_type": "code",
      "source": [
        "train['start_latitude'] = (train['start_latitude'] - 33) * 100\n",
        "train['end_latitude'] = (train['end_latitude'] - 33) * 100\n",
        "train['start_longitude'] = (train['start_longitude'] - 126) *100\n",
        "train['end_longitude'] = (train['end_longitude'] - 126) *100\n",
        "\n",
        "test['start_latitude'] = (test['start_latitude'] - 33) * 100\n",
        "test['end_latitude'] = (test['end_latitude'] - 33) * 100\n",
        "test['start_longitude'] = (test['start_longitude'] - 126) *100\n",
        "test['end_longitude'] = (test['end_longitude'] - 126) *100"
      ],
      "metadata": {
        "id": "RkRLdANLnhX0"
      },
      "execution_count": null,
      "outputs": []
    },
    {
      "cell_type": "code",
      "source": [
        "## start point(lati+longi) & end point feature 생성성\n",
        "train['sLatiLongi'] = train.apply(lambda x: x['start_latitude'] + x['start_longitude'], axis = 1)\n",
        "train['eLatiLongi'] = train.apply(lambda x: x['end_latitude'] + x['end_longitude'], axis = 1)\n",
        "test['sLatiLongi'] = test.apply(lambda x: x['start_latitude'] + x['start_longitude'], axis = 1)\n",
        "test['eLatiLongi'] = test.apply(lambda x: x['end_latitude'] + x['end_longitude'], axis = 1)"
      ],
      "metadata": {
        "id": "xVJ0ZkwRoe7Z"
      },
      "execution_count": null,
      "outputs": []
    },
    {
      "cell_type": "code",
      "source": [
        "## weight_restricted + road_type ~ 둘의 상관관계가 높음\n",
        "# train['wr_rt'] = train.apply(lambda x: (x['weight_restricted']*0.1) + x['road_type'], axis = 'columns')\n",
        "# test['wr_rt'] = test.apply(lambda x: (x['weight_restricted']*0.1) + x['road_type'], axis = 'columns')"
      ],
      "metadata": {
        "id": "TP8Rs5X-_wAU"
      },
      "execution_count": null,
      "outputs": []
    },
    {
      "cell_type": "code",
      "source": [
        "## max_speed limit & lane count 상관관계 높음\n",
        "train['msl_lc'] = train.apply(lambda x: x['maximum_speed_limit'] / x['lane_count'], axis = 1)\n",
        "test['msl_lc'] = test.apply(lambda x: x['maximum_speed_limit'] / x['lane_count'], axis = 1)"
      ],
      "metadata": {
        "id": "BdRjwoovTl9d"
      },
      "execution_count": null,
      "outputs": []
    },
    {
      "cell_type": "code",
      "source": [
        "## month feature 생성\n",
        "train['month'] = train.apply(lambda x: int(str(x['base_date'])[4:6]), axis = 'columns')\n",
        "test['month'] = test.apply(lambda x: int(str(x['base_date'])[4:6]), axis = 'columns')"
      ],
      "metadata": {
        "id": "rmQfS7pu_swK"
      },
      "execution_count": null,
      "outputs": []
    },
    {
      "cell_type": "code",
      "source": [
        "# ## month에 8이 없으므로 8은 같은 성수기인 7월로 변경\n",
        "# train.loc[train['month'] == 8,'month'] = 7\n",
        "# test.loc[test['month'] == 8,'month'] = 7"
      ],
      "metadata": {
        "id": "TBdyIuvhcuao"
      },
      "execution_count": null,
      "outputs": []
    },
    {
      "cell_type": "code",
      "source": [
        "# test.head()"
      ],
      "metadata": {
        "id": "cyz8RH_scu-_"
      },
      "execution_count": null,
      "outputs": []
    },
    {
      "cell_type": "code",
      "source": [
        "def season(x) :\n",
        "    expeak = [7,8]\n",
        "    midpeak_s = [4,5,6]\n",
        "    midpeak_h = [9,10]\n",
        "    unpeak_v = [1,2]\n",
        "    unpeak_nv = [11,12,3]\n",
        "    if x in expeak :\n",
        "        return 5\n",
        "    elif x in midpeak_s :\n",
        "        return 4\n",
        "    elif x in midpeak_h :\n",
        "        return 3\n",
        "    elif x in  unpeak_v :\n",
        "        return 2\n",
        "    else :\n",
        "        return 1"
      ],
      "metadata": {
        "id": "SjhI6fs2q9lw"
      },
      "execution_count": null,
      "outputs": []
    },
    {
      "cell_type": "code",
      "source": [
        "train[\"season\"] = train[\"month\"].apply(lambda x : season(x))\n",
        "test[\"season\"] = test[\"month\"].apply(lambda x : season(x))"
      ],
      "metadata": {
        "id": "tAfVfBNdoy4o"
      },
      "execution_count": null,
      "outputs": []
    },
    {
      "cell_type": "code",
      "source": [
        "from collections import Counter\n",
        "\n",
        "def print_mode(df, col):\n",
        "\n",
        "  cnt = Counter(df[col])\n",
        "  list_cnt = cnt.most_common(10)\n",
        "  modest = []\n",
        "  for idx, value in enumerate(list_cnt):\n",
        "\n",
        "    print(f'{col}의 최빈값 {idx+1}순위 : {value[0]} & {value[-1]}개')\n",
        "    modest.append(value[0])\n",
        "  print(sum(modest)/10)"
      ],
      "metadata": {
        "id": "jKyJ4bFrxqRb"
      },
      "execution_count": null,
      "outputs": []
    },
    {
      "cell_type": "code",
      "source": [
        "for value in train['base_hour'].unique():\n",
        "\n",
        "    cond = (train['base_hour']==value)\n",
        "    cond_df = train.loc[cond]\n",
        "\n",
        "    print(f'{value} 데이터 갯수 : {cond_df.shape[0]}')\n",
        "\n",
        "    print_mode(cond_df, 'target')\n",
        "    print('='*50)"
      ],
      "metadata": {
        "id": "9QTI-r2IrOMO"
      },
      "execution_count": null,
      "outputs": []
    },
    {
      "cell_type": "code",
      "source": [
        "def mode_hour(x) :\n",
        "    if x == 1 :\n",
        "        return 51.5\n",
        "    elif x == 2 :\n",
        "        return 51.5\n",
        "    elif x == 3 :\n",
        "        return 52.5\n",
        "    elif x == 4 :\n",
        "        return 52.5\n",
        "    elif x == 5 :\n",
        "        return 51.5\n",
        "    elif x == 6 :\n",
        "        return 50.5\n",
        "    elif x == 7 :\n",
        "        return 46.4\n",
        "    elif x == 8 :\n",
        "        return 48\n",
        "    elif x == 9 :\n",
        "        return 41.5\n",
        "    elif x == 10 :\n",
        "        return 36.1\n",
        "    elif x == 11 :\n",
        "        return 38.1\n",
        "    elif x == 12 :\n",
        "        return 35.8\n",
        "    elif x == 13 :\n",
        "        return 38\n",
        "    elif x == 14 :\n",
        "        return 38.1\n",
        "    elif x == 15 :\n",
        "        return 36.9\n",
        "    elif x == 16 :\n",
        "        return 35.9\n",
        "    elif x == 17 :\n",
        "        return 30.6\n",
        "    elif x == 18 :\n",
        "        return 36.1\n",
        "    elif x == 19 :\n",
        "        return 37.1\n",
        "    elif x == 20 :\n",
        "        return 39.6\n",
        "    elif x == 21 :\n",
        "        return 42.8\n",
        "    elif x == 22 :\n",
        "        return 48.7\n",
        "    elif x == 23 :\n",
        "        return 49.5\n",
        "    else :\n",
        "        return 51.5"
      ],
      "metadata": {
        "id": "ptSYD7cAxSQj"
      },
      "execution_count": null,
      "outputs": []
    },
    {
      "cell_type": "code",
      "source": [
        "train[\"modest_hour\"] = train[\"base_hour\"].apply(lambda x : mode_hour(x))\n",
        "test[\"modest_hour\"] = test[\"base_hour\"].apply(lambda x : mode_hour(x))"
      ],
      "metadata": {
        "id": "r8eW_hBTzMtW"
      },
      "execution_count": null,
      "outputs": []
    },
    {
      "cell_type": "code",
      "source": [
        "train['mod_week_hour'] = train.apply(lambda x: x['modest_hour'] * (x['day_of_week']+5), axis = 1)\n",
        "test['mod_week_hour'] = test.apply(lambda x: x['modest_hour'] * (x['day_of_week']+5), axis = 1)"
      ],
      "metadata": {
        "id": "NNk9T73F9Sya"
      },
      "execution_count": null,
      "outputs": []
    },
    {
      "cell_type": "code",
      "source": [
        "# train['mod_maxlmt'] = train.apply(lambda x : abs(x['modest_hour'] - x['maximum_speed_limit']), axis = 1)\n",
        "# test['mod_maxlmt'] = test.apply(lambda x : abs(x['modest_hour'] - x['maximum_speed_limit']), axis = 1)"
      ],
      "metadata": {
        "id": "5TQv9ro9epWs"
      },
      "execution_count": null,
      "outputs": []
    },
    {
      "cell_type": "code",
      "source": [
        "# 3.1472\n",
        "train['lmt_rat_cnt'] = train.apply(lambda x: x['maximum_speed_limit'] * x['road_rating'] * x['lane_count'], axis = 1)\n",
        "test['lmt_rat_cnt'] = test.apply(lambda x: x['maximum_speed_limit'] * x['road_rating'] * x['lane_count'], axis = 1)"
      ],
      "metadata": {
        "id": "NNSUL6lM05AK"
      },
      "execution_count": null,
      "outputs": []
    },
    {
      "cell_type": "code",
      "source": [
        "# # 제주특별자치도관광협회(http://visitjeju.or.kr/web/bbs/bbsList.do?bbsId=TOURSTAT)\n",
        "# # 2021년 9~12월, 2022년 1~8월 데이터 사용\n",
        "# # 2021년 8월 코로나 거리두기 3단계\n",
        "# # 2022년 9월; 1059157\n",
        "\n",
        "# def tour(x) :\n",
        "#     if x == 1 :\n",
        "#         return np.log1p(1170802)\n",
        "#     elif x == 2 :\n",
        "#         return np.log1p(1029503)\n",
        "#     elif x == 3 :\n",
        "#         return np.log1p(873086)\n",
        "#     elif x == 4 :\n",
        "#         return np.log1p(1178456)\n",
        "#     elif x == 5 :\n",
        "#         return np.log1p(1306537)\n",
        "#     elif x == 6 :\n",
        "#         return np.log1p(1283470)\n",
        "#     elif x == 7 :\n",
        "#         return np.log1p(1263332)\n",
        "#     elif x == 8 :\n",
        "#         return np.log1p(1281608)\n",
        "#     elif x == 9 :\n",
        "#         return np.log1p(872396)\n",
        "#     elif x == 10 :\n",
        "#         return np.log1p(1222094)\n",
        "#     elif x == 11 :\n",
        "#         return np.log1p(1204344)\n",
        "#     else :\n",
        "#         return np.log1p(1090607)"
      ],
      "metadata": {
        "id": "aiSjW6ZEzfFq"
      },
      "execution_count": null,
      "outputs": []
    },
    {
      "cell_type": "code",
      "source": [
        "# train[\"tourist\"] = train[\"month\"].apply(lambda x :tour(x))\n",
        "# test[\"tourist\"] = test[\"month\"].apply(lambda x : tour(x)*1.3)"
      ],
      "metadata": {
        "id": "H5bCQ6ip3gCu"
      },
      "execution_count": null,
      "outputs": []
    },
    {
      "cell_type": "code",
      "source": [
        "# # 제주특별자치도-주민등록인구통계(https://www.jeju.go.kr/open/stats/list/population.htm?year=2021)\n",
        "# # 2021년 8~12월, 2022년 1~7월 데이터 사용\n",
        "\n",
        "# def reside(x) :\n",
        "#     if x == 1 :\n",
        "#         return np.log1p(697269)\n",
        "#     elif x == 2 :\n",
        "#         return np.log1p(697718)\n",
        "#     elif x == 3 :\n",
        "#         return np.log1p(697841)\n",
        "#     elif x == 4 :\n",
        "#         return np.log1p(698056)\n",
        "#     elif x == 5 :\n",
        "#         return np.log1p(698435)\n",
        "#     elif x == 6 :\n",
        "#         return np.log1p(698698)\n",
        "#     elif x == 7 :\n",
        "#         return np.log1p(699303)\n",
        "#     elif x == 8 :\n",
        "#         return np.log1p(697108)\n",
        "#     elif x == 9 :\n",
        "#         return np.log1p(697263)\n",
        "#     elif x == 10 :\n",
        "#         return np.log1p(697647)\n",
        "#     elif x == 11 :\n",
        "#         return np.log1p(697718)\n",
        "#     else :\n",
        "#         return np.log1p(697476)"
      ],
      "metadata": {
        "id": "5Re4-_bizupc"
      },
      "execution_count": null,
      "outputs": []
    },
    {
      "cell_type": "code",
      "source": [
        "# train[\"resident\"] = train[\"month\"].apply(lambda x :reside(x))\n",
        "# test[\"resident\"] = test[\"month\"].apply(lambda x : reside(x)*1.013)"
      ],
      "metadata": {
        "id": "6rSbeI0G4fLK"
      },
      "execution_count": null,
      "outputs": []
    },
    {
      "cell_type": "code",
      "execution_count": null,
      "metadata": {
        "id": "Oy2QwtLNGiIz"
      },
      "outputs": [],
      "source": [
        "train_target = train['target']\n",
        "train_input = train.drop(['month','road_in_use','id','base_date', 'target', 'start_node_name', 'end_node_name','vehicle_restricted','height_restricted','multi_linked'], axis=1) #'weight_restricted','road_type'"
      ]
    },
    {
      "cell_type": "code",
      "source": [
        "test = test.drop(['month','road_in_use','id','base_date', 'start_node_name', 'end_node_name','vehicle_restricted','height_restricted','multi_linked'], axis=1)"
      ],
      "metadata": {
        "id": "fDUU-VDk6X0G"
      },
      "execution_count": null,
      "outputs": []
    },
    {
      "cell_type": "code",
      "source": [
        "train_input.shape"
      ],
      "metadata": {
        "colab": {
          "base_uri": "https://localhost:8080/"
        },
        "id": "48GLxmX4xyBB",
        "outputId": "41658920-ba44-453b-fa12-78b8c85d9bd0"
      },
      "execution_count": null,
      "outputs": [
        {
          "output_type": "execute_result",
          "data": {
            "text/plain": [
              "(4698461, 23)"
            ]
          },
          "metadata": {},
          "execution_count": 34
        }
      ]
    },
    {
      "cell_type": "code",
      "source": [
        "test.shape"
      ],
      "metadata": {
        "colab": {
          "base_uri": "https://localhost:8080/"
        },
        "id": "JSNa0B10x0f6",
        "outputId": "d3fd59e7-4f1f-40cd-bd18-15959836fcd5"
      },
      "execution_count": null,
      "outputs": [
        {
          "output_type": "execute_result",
          "data": {
            "text/plain": [
              "(291241, 23)"
            ]
          },
          "metadata": {},
          "execution_count": 35
        }
      ]
    },
    {
      "cell_type": "code",
      "source": [
        "X_train, X_test, y_train, y_test = train_test_split(train_input, train_target, test_size=0.3, random_state=0)"
      ],
      "metadata": {
        "id": "uTMERAtQjMbm"
      },
      "execution_count": null,
      "outputs": []
    },
    {
      "cell_type": "code",
      "source": [
        "# 스케일링\n",
        "# ss = StandardScaler()\n",
        "# X_train_sc = ss.fit_transform(X_train)\n",
        "# X_val_sc = ss.transform(X_test)"
      ],
      "metadata": {
        "id": "snAAeSOxjq8U"
      },
      "execution_count": null,
      "outputs": []
    },
    {
      "cell_type": "code",
      "source": [
        "# # LGBM - KFold        ## 3.11473(season{1.5}) // {1.25} // 3.0602{0.75} // 3.116553(season+mod_maxlmt) // 3.026216(month)\n",
        "X = train_input\n",
        "y = train_target\n",
        "\n",
        "k_fold = KFold(n_splits = 3, shuffle=True, random_state = 10)\n",
        "y_pred = np.zeros(len(test))\n",
        "\n",
        "for train_idx, val_idx in k_fold.split(X):\n",
        "  x_t = X.iloc[train_idx]\n",
        "  y_t = y.iloc[train_idx]\n",
        "  x_val = X.iloc[val_idx]\n",
        "  y_val = y.iloc[val_idx]\n",
        "\n",
        "  lgbm = lgb.LGBMRegressor(n_estimators = 8000,\n",
        "                           learning_rate = 0.0345,\n",
        "                           max_depth = 36,\n",
        "                           num_leaves = 7870,\n",
        "                           min_data_in_leaf = 10,\n",
        "                           min_child_samples = 220,\n",
        "                           subsample = 0.97,\n",
        "                           metric = 'mae',\n",
        "                           objective = 'regression')\n",
        "  lgbm.fit(x_t, y_t, eval_set=[(x_val, y_val)], eval_metric= 'mae', early_stopping_rounds= 25,verbose = 50)\n",
        "  y_pred += lgbm.predict(test) / 3"
      ],
      "metadata": {
        "id": "8bdI07TE7UEb"
      },
      "execution_count": null,
      "outputs": []
    },
    {
      "cell_type": "code",
      "source": [
        "# 특성 중요도 시각화 하기\n",
        "import plotly.express as px\n",
        "\n",
        "feature_importance = pd.DataFrame({\n",
        "    'feature': train_input.columns,\n",
        "    'importance': lgbm.feature_importances_\n",
        "})\n",
        "\n",
        "feature_importance.sort_values('importance', inplace=True)\n",
        "print(feature_importance)\n",
        "\n",
        "fig = px.bar(feature_importance, x='feature', y='importance')\n",
        "fig.show()"
      ],
      "metadata": {
        "id": "ASVj_xhYnhOW"
      },
      "execution_count": null,
      "outputs": []
    },
    {
      "cell_type": "markdown",
      "source": [
        "> 제출 predict"
      ],
      "metadata": {
        "id": "5Rx3zy1Iiun6"
      }
    },
    {
      "cell_type": "code",
      "source": [
        "# preds = []\n",
        "# for model in models:\n",
        "#   preds.append(model.predict(test))\n",
        "# preds = pd.DataFrame(preds)\n",
        "# ans = preds.mean()"
      ],
      "metadata": {
        "id": "FN-jGcmRercH"
      },
      "execution_count": null,
      "outputs": []
    },
    {
      "cell_type": "markdown",
      "metadata": {
        "id": "KbgFGeGCGiI1"
      },
      "source": [
        "> Submission"
      ]
    },
    {
      "cell_type": "code",
      "source": [
        "sample_submission = pd.read_csv('/content/drive/MyDrive/DACON/제주도 도로 교통량 예측 AI 경진대회/open (제주 교통)/sample_submission.csv')\n",
        "sample_submission['target'] = y_pred.round(0)\n",
        "sample_submission.to_csv(\"./submit.csv\", index = False)"
      ],
      "metadata": {
        "id": "WYu6uiOcH6E3"
      },
      "execution_count": null,
      "outputs": []
    },
    {
      "cell_type": "code",
      "source": [
        "sample_submission"
      ],
      "metadata": {
        "id": "bgbXuMcx80S3"
      },
      "execution_count": null,
      "outputs": []
    },
    {
      "cell_type": "code",
      "source": [],
      "metadata": {
        "id": "8ov8cIfCRcvU"
      },
      "execution_count": null,
      "outputs": []
    }
  ],
  "metadata": {
    "kernelspec": {
      "display_name": "Python 3",
      "name": "python3"
    },
    "language_info": {
      "name": "python"
    },
    "colab": {
      "provenance": [],
      "include_colab_link": true
    }
  },
  "nbformat": 4,
  "nbformat_minor": 0
}